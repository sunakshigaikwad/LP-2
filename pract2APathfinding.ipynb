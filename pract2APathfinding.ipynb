{
 "cells": [
  {
   "cell_type": "code",
   "execution_count": 1,
   "id": "f026c2f5-5c0e-4aa3-aa9f-a0387b8dcdac",
   "metadata": {},
   "outputs": [
    {
     "name": "stdin",
     "output_type": "stream",
     "text": [
      "Enter start position (row col):  0 0\n",
      "Enter goal position (row col):  4 4\n"
     ]
    },
    {
     "name": "stdout",
     "output_type": "stream",
     "text": [
      "\n",
      "Shortest Path Found: [(0, 0), (0, 1), (0, 2), (1, 2), (1, 3), (2, 3), (2, 4), (3, 4), (4, 4)]\n"
     ]
    },
    {
     "data": {
      "image/png": "[encoded data removed]",
      "text/plain": [
       "<Figure size 640x480 with 1 Axes>"
      ]
     },
     "metadata": {},
     "output_type": "display_data"
    }
   ],
   "source": [
    "import heapq\n",
    "import matplotlib.pyplot as plt\n",
    "import numpy as np\n",
    "\n",
    "class Node:\n",
    "    def __init__(self, position, parent=None, g=0, h=0):\n",
    "        self.position = position\n",
    "        self.parent = parent\n",
    "        self.g = g  # Cost from start to current node\n",
    "        self.h = h  # Estimated cost to goal\n",
    "        self.f = g + h  # Total cost\n",
    "\n",
    "    def __lt__(self, other):\n",
    "        return self.f < other.f  # Needed for priority queue\n",
    "\n",
    "def heuristic(a, b):\n",
    "    \"\"\"Calculate Manhattan distance\"\"\"\n",
    "    return abs(a[0] - b[0]) + abs(a[1] - b[1])\n",
    "\n",
    "def astar(grid, start, goal):\n",
    "    open_list = []\n",
    "    closed_set = set()\n",
    "    start_node = Node(start, None, 0, heuristic(start, goal))\n",
    "    heapq.heappush(open_list, start_node)\n",
    "    directions = [(0, 1), (1, 0), (0, -1), (-1, 0)]  # Right, Down, Left, Up\n",
    "\n",
    "    while open_list:\n",
    "        current_node = heapq.heappop(open_list)\n",
    "\n",
    "        if current_node.position == goal:\n",
    "            path = []\n",
    "            while current_node:\n",
    "                path.append(current_node.position)\n",
    "                current_node = current_node.parent\n",
    "            return path[::-1]  # Return reversed path\n",
    "\n",
    "        closed_set.add(current_node.position)\n",
    "\n",
    "        for dx, dy in directions:\n",
    "            neighbor_pos = (current_node.position[0] + dx, current_node.position[1] + dy)\n",
    "\n",
    "            if (neighbor_pos[0] < 0 or neighbor_pos[0] >= len(grid) or \n",
    "                neighbor_pos[1] < 0 or neighbor_pos[1] >= len(grid[0]) or \n",
    "                grid[neighbor_pos[0]][neighbor_pos[1]] == 1 or \n",
    "                neighbor_pos in closed_set):\n",
    "                continue  # Skip walls and visited nodes\n",
    "\n",
    "            g_cost = current_node.g + 1\n",
    "            h_cost = heuristic(neighbor_pos, goal)\n",
    "            new_node = Node(neighbor_pos, current_node, g_cost, h_cost)\n",
    "\n",
    "            heapq.heappush(open_list, new_node)\n",
    "\n",
    "    return None  # No path found\n",
    "\n",
    "def visualize_path(maze, path, start, goal):\n",
    "    \"\"\"Function to visualize the A* pathfinding result\"\"\"\n",
    "    maze_array = np.array(maze)\n",
    "    fig, ax = plt.subplots()\n",
    "    ax.set_xticks(range(len(maze[0]) + 1))\n",
    "    ax.set_yticks(range(len(maze) + 1))\n",
    "    ax.grid(True)\n",
    "\n",
    "    # Color walls as black\n",
    "    for row in range(len(maze)):\n",
    "        for col in range(len(maze[0])):\n",
    "            if maze[row][col] == 1:\n",
    "                ax.add_patch(plt.Rectangle((col, len(maze) - row - 1), 1, 1, color='black'))\n",
    "\n",
    "    # Color the path in green\n",
    "    if path:\n",
    "        for row, col in path:\n",
    "            ax.add_patch(plt.Rectangle((col, len(maze) - row - 1), 1, 1, color='green'))\n",
    "\n",
    "    # Color start (red) and goal (blue)\n",
    "    ax.add_patch(plt.Rectangle((start[1], len(maze) - start[0] - 1), 1, 1, color='red'))\n",
    "    ax.add_patch(plt.Rectangle((goal[1], len(maze) - goal[0] - 1), 1, 1, color='blue'))\n",
    "\n",
    "    plt.title(\"A* Pathfinding Visualization\")\n",
    "    plt.show()\n",
    "\n",
    "# Define the maze (0 = open, 1 = obstacle)\n",
    "maze = [\n",
    "    [1, 0, 0, 1, 0],\n",
    "    [0, 0, 0, 0, 1],\n",
    "    [0, 0, 1, 0, 0],\n",
    "    [1, 1, 0, 1, 0],\n",
    "    [1, 1, 0, 0, 0]\n",
    "]\n",
    "\n",
    "# Take input for start and goal positions\n",
    "start_x, start_y = map(int, input(\"Enter start position (row col): \").split())\n",
    "goal_x, goal_y = map(int, input(\"Enter goal position (row col): \").split())\n",
    "\n",
    "start = (start_x, start_y)\n",
    "goal = (goal_x, goal_y)\n",
    "\n",
    "# Run A* algorithm\n",
    "path = astar(maze, start, goal)\n",
    "\n",
    "# Display results\n",
    "if path:\n",
    "    print(\"\\nShortest Path Found:\", path)\n",
    "    visualize_path(maze, path, start, goal)\n",
    "else:\n",
    "    print(\"\\nNo Path Found!\")\n"
   ]
  },
  {
   "cell_type": "code",
   "execution_count": null,
   "id": "7c6d1332-7c9d-4957-bddb-18ca480cb771",
   "metadata": {},
   "outputs": [],
   "source": []
  }
 ],
 "metadata": {
  "kernelspec": {
   "display_name": "Python 3 (ipykernel)",
   "language": "python",
   "name": "python3"
  },
  "language_info": {
   "codemirror_mode": {
    "name": "ipython",
    "version": 3
   },
   "file_extension": ".py",
   "mimetype": "text/x-python",
   "name": "python",
   "nbconvert_exporter": "python",
   "pygments_lexer": "ipython3",
   "version": "3.13.2"
  }
 },
 "nbformat": 4,
 "nbformat_minor": 5
}
