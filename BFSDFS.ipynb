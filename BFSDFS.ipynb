{
 "cells": [
  {
   "cell_type": "code",
   "execution_count": 2,
   "id": "ceb6e695-45be-4768-afee-c319e20d4b2c",
   "metadata": {},
   "outputs": [
    {
     "name": "stdin",
     "output_type": "stream",
     "text": [
      "Enter number of vertices:  5\n",
      "Enter number of edges:  4\n"
     ]
    },
    {
     "name": "stdout",
     "output_type": "stream",
     "text": [
      "Enter edges (e.g., 0 1):\n"
     ]
    },
    {
     "name": "stdin",
     "output_type": "stream",
     "text": [
      " 0 1\n",
      " 0 2\n",
      " 1 3\n",
      " 1 4\n"
     ]
    },
    {
     "data": {
      "image/png": "[encoded data removed]",
      "text/plain": [
       "<Figure size 800x600 with 1 Axes>"
      ]
     },
     "metadata": {},
     "output_type": "display_data"
    },
    {
     "name": "stdin",
     "output_type": "stream",
     "text": [
      "Enter starting node for traversal:  1\n"
     ]
    },
    {
     "name": "stdout",
     "output_type": "stream",
     "text": [
      "\n",
      "DFS Traversal (recursive):\n",
      "1 0 2 3 4 \n",
      "\n",
      "BFS Traversal:\n",
      "1 0 3 4 2 "
     ]
    }
   ],
   "source": [
    "# Import necessary libraries\n",
    "import networkx as nx\n",
    "import matplotlib.pyplot as plt\n",
    "from collections import deque\n",
    "\n",
    "# Input number of vertices and edges\n",
    "n = int(input(\"Enter number of vertices: \"))\n",
    "e = int(input(\"Enter number of edges: \"))\n",
    "\n",
    "# Create adjacency list\n",
    "graph = {i: [] for i in range(n)}\n",
    "\n",
    "print(\"Enter edges (e.g., 0 1):\")\n",
    "for _ in range(e):\n",
    "    u, v = map(int, input().split())\n",
    "    graph[u].append(v)\n",
    "    graph[v].append(u)  # Because it's an undirected graph\n",
    "\n",
    "# Visualize the graph using networkx\n",
    "G = nx.Graph()\n",
    "for node in graph:\n",
    "    for neighbor in graph[node]:\n",
    "        G.add_edge(node, neighbor)\n",
    "\n",
    "plt.figure(figsize=(8, 6))\n",
    "nx.draw(G, with_labels=True, node_color='skyblue', node_size=800, font_size=16)\n",
    "plt.title(\"Undirected Graph\")\n",
    "plt.show()\n",
    "\n",
    "# ----------------------------\n",
    "# Recursive DFS Implementation\n",
    "# ----------------------------\n",
    "def dfs_recursive(graph, start, visited=None):\n",
    "    if visited is None:\n",
    "        visited = set()\n",
    "    visited.add(start)\n",
    "    print(start, end=' ')\n",
    "    for neighbor in graph[start]:\n",
    "        if neighbor not in visited:\n",
    "            dfs_recursive(graph, neighbor, visited)\n",
    "    return visited\n",
    "\n",
    "# ----------------------------\n",
    "# Iterative BFS Implementation\n",
    "# ----------------------------\n",
    "def bfs(graph, start):\n",
    "    visited = set()\n",
    "    queue = deque([start])\n",
    "    visited.add(start)\n",
    "    \n",
    "    while queue:\n",
    "        vertex = queue.popleft()\n",
    "        print(vertex, end=' ')\n",
    "        for neighbor in graph[vertex]:\n",
    "            if neighbor not in visited:\n",
    "                visited.add(neighbor)\n",
    "                queue.append(neighbor)\n",
    "\n",
    "# ----------------------------\n",
    "# Take input for starting node\n",
    "# ----------------------------\n",
    "start_node = int(input(\"Enter starting node for traversal: \"))\n",
    "\n",
    "print(\"\\nDFS Traversal (recursive):\")\n",
    "dfs_recursive(graph, start_node)\n",
    "\n",
    "print(\"\\n\\nBFS Traversal:\")\n",
    "bfs(graph, start_node)\n"
   ]
  },
  {
   "cell_type": "code",
   "execution_count": null,
   "id": "f0bbc0a1-fcda-450c-8ea8-5e739cb72de3",
   "metadata": {},
   "outputs": [],
   "source": []
  }
 ],
 "metadata": {
  "kernelspec": {
   "display_name": "Python 3 (ipykernel)",
   "language": "python",
   "name": "python3"
  },
  "language_info": {
   "codemirror_mode": {
    "name": "ipython",
    "version": 3
   },
   "file_extension": ".py",
   "mimetype": "text/x-python",
   "name": "python",
   "nbconvert_exporter": "python",
   "pygments_lexer": "ipython3",
   "version": "3.13.2"
  }
 },
 "nbformat": 4,
 "nbformat_minor": 5
}
