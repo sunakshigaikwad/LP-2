{
 "cells": [
  {
   "cell_type": "code",
   "execution_count": null,
   "id": "1caaf5fa-a09d-4632-b2e2-743335fe0ff2",
   "metadata": {},
   "outputs": [
    {
     "name": "stdout",
     "output_type": "stream",
     "text": [
      "Welcome to ShopBot! 🤖 How can I help you today?\n",
      "Type 'exit' to end the chat.\n",
      "\n"
     ]
    },
    {
     "name": "stdin",
     "output_type": "stream",
     "text": [
      "You:  hey\n"
     ]
    },
    {
     "name": "stdout",
     "output_type": "stream",
     "text": [
      "ShopBot: I'm sorry, I didn't understand that. Can you rephrase or type 'help' for options?\n"
     ]
    },
    {
     "name": "stdin",
     "output_type": "stream",
     "text": [
      "You:  help\n"
     ]
    },
    {
     "name": "stdout",
     "output_type": "stream",
     "text": [
      "ShopBot: You can ask me about:\n",
      "- Order Status\n",
      "- Returns and Refunds\n",
      "- Payment Options\n",
      "- Product Availability\n",
      "- Delivery Times\n"
     ]
    },
    {
     "name": "stdin",
     "output_type": "stream",
     "text": [
      "You:  order status\n"
     ]
    },
    {
     "name": "stdout",
     "output_type": "stream",
     "text": [
      "ShopBot: Sure! Please provide your order number.\n"
     ]
    },
    {
     "name": "stdin",
     "output_type": "stream",
     "text": [
      "You:  1\n"
     ]
    },
    {
     "name": "stdout",
     "output_type": "stream",
     "text": [
      "ShopBot: I'm sorry, I didn't understand that. Can you rephrase or type 'help' for options?\n"
     ]
    },
    {
     "name": "stdin",
     "output_type": "stream",
     "text": [
      "You:  what is delivery time\n"
     ]
    },
    {
     "name": "stdout",
     "output_type": "stream",
     "text": [
      "ShopBot: Standard delivery takes 3-5 working days.\n"
     ]
    },
    {
     "name": "stdin",
     "output_type": "stream",
     "text": [
      "You:  want my returns\n"
     ]
    },
    {
     "name": "stdout",
     "output_type": "stream",
     "text": [
      "ShopBot: You can return items within 10 days of delivery. Do you want me to start a return process?\n"
     ]
    },
    {
     "name": "stdin",
     "output_type": "stream",
     "text": [
      "You:  yes\n"
     ]
    },
    {
     "name": "stdout",
     "output_type": "stream",
     "text": [
      "ShopBot: I'm sorry, I didn't understand that. Can you rephrase or type 'help' for options?\n"
     ]
    }
   ],
   "source": [
    "def chatbot():\n",
    "    print(\"Welcome to ShopBot! 🤖 How can I help you today?\")\n",
    "    print(\"Type 'exit' to end the chat.\\n\")\n",
    "\n",
    "    while True:\n",
    "        user_input = input(\"You: \").lower()\n",
    "\n",
    "        if user_input in [\"exit\", \"quit\", \"bye\"]:\n",
    "            print(\"ShopBot: Thank you for visiting. Have a great day! 😊\")\n",
    "            break\n",
    "\n",
    "        elif \"order\" in user_input and \"status\" in user_input:\n",
    "            print(\"ShopBot: Sure! Please provide your order number.\")\n",
    "\n",
    "        elif \"refund\" in user_input:\n",
    "            print(\"ShopBot: I'm sorry to hear that. Please provide your order number for refund processing.\")\n",
    "\n",
    "        elif \"return\" in user_input:\n",
    "            print(\"ShopBot: You can return items within 10 days of delivery. Do you want me to start a return process?\")\n",
    "\n",
    "        elif \"product\" in user_input or \"availability\" in user_input:\n",
    "            print(\"ShopBot: Please tell me the product name you're looking for.\")\n",
    "\n",
    "        elif \"payment\" in user_input:\n",
    "            print(\"ShopBot: We accept credit/debit cards, UPI, and net banking.\")\n",
    "\n",
    "        elif \"delivery\" in user_input or \"shipping\" in user_input:\n",
    "            print(\"ShopBot: Standard delivery takes 3-5 working days.\")\n",
    "\n",
    "        elif \"help\" in user_input:\n",
    "            print(\"ShopBot: You can ask me about:\\n- Order Status\\n- Returns and Refunds\\n- Payment Options\\n- Product Availability\\n- Delivery Times\")\n",
    "\n",
    "        else:\n",
    "            print(\"ShopBot: I'm sorry, I didn't understand that. Can you rephrase or type 'help' for options?\")\n",
    "\n",
    "if __name__ == \"__main__\":\n",
    "    chatbot()\n"
   ]
  },
  {
   "cell_type": "code",
   "execution_count": null,
   "id": "720bce43-26a0-4a1f-8c9b-6babfab5cb27",
   "metadata": {},
   "outputs": [],
   "source": []
  }
 ],
 "metadata": {
  "kernelspec": {
   "display_name": "Python 3 (ipykernel)",
   "language": "python",
   "name": "python3"
  },
  "language_info": {
   "codemirror_mode": {
    "name": "ipython",
    "version": 3
   },
   "file_extension": ".py",
   "mimetype": "text/x-python",
   "name": "python",
   "nbconvert_exporter": "python",
   "pygments_lexer": "ipython3",
   "version": "3.13.2"
  }
 },
 "nbformat": 4,
 "nbformat_minor": 5
}
